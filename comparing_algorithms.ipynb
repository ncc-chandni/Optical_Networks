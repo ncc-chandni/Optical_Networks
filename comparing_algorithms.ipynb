{
 "cells": [
  {
   "cell_type": "markdown",
   "metadata": {},
   "source": [
    "### IMPORT LIBRARIES"
   ]
  },
  {
   "cell_type": "code",
   "execution_count": 1,
   "metadata": {},
   "outputs": [],
   "source": [
    "import file_reader as fr \n",
    "import numpy as np \n",
    "import time \n",
    "from sklearn.preprocessing import StandardScaler\n",
    "from sklearn.model_selection import GridSearchCV\n",
    "from sklearn.neural_network import MLPClassifier\n",
    "from sklearn.neighbors import KNeighborsClassifier\n",
    "from sklearn.linear_model import LogisticRegression\n",
    "from sklearn.svm import SVC\n",
    "from sklearn.tree import DecisionTreeClassifier\n",
    "from sklearn.ensemble import RandomForestClassifier, AdaBoostClassifier, BaggingClassifier\n",
    "from sklearn.naive_bayes import GaussianNB \n",
    "from sklearn.discriminant_analysis import LinearDiscriminantAnalysis \n",
    "from sklearn import metrics "
   ]
  },
  {
   "cell_type": "markdown",
   "metadata": {},
   "source": [
    "### LOAD THE DATASET"
   ]
  },
  {
   "cell_type": "markdown",
   "metadata": {},
   "source": [
    "use a scaler to transform your data so it can be easily used by all the algorithms."
   ]
  },
  {
   "cell_type": "code",
   "execution_count": 4,
   "metadata": {},
   "outputs": [],
   "source": [
    "training_set_file = '/Users/umakantmanore/Desktop/amu/Dev_Enviroment2023/test_env/Optical_networks/dataset/balanced-20372.csv'\n",
    "testing_set_file = '/Users/umakantmanore/Desktop/amu/Dev_Enviroment2023/test_env/Optical_networks/dataset/testset-2351.csv'"
   ]
  },
  {
   "cell_type": "code",
   "execution_count": 5,
   "metadata": {},
   "outputs": [
    {
     "name": "stdout",
     "output_type": "stream",
     "text": [
      "Class A samples : 5093 \n",
      "Class B samples : 5092 \n",
      "Class C samples : 5093 \n",
      "Class D samples : 5093\n",
      "Class A samples : 864 \n",
      "Class B samples : 378 \n",
      "Class C samples : 499 \n",
      "Class D samples : 609\n"
     ]
    }
   ],
   "source": [
    "X_train, y_train = fr.FileReader.read_array_three_class(fr.FileReader(), training_set_file)\n",
    "\n",
    "X_test, y_test = fr.FileReader.read_array_three_class(fr.FileReader(), testing_set_file)"
   ]
  },
  {
   "cell_type": "code",
   "execution_count": 6,
   "metadata": {},
   "outputs": [],
   "source": [
    "scaler = StandardScaler()\n",
    "\n",
    "X_train = scaler.fit_transform(X_train)\n",
    "X_test = scaler.fit_transform(X_test)"
   ]
  },
  {
   "cell_type": "markdown",
   "metadata": {},
   "source": [
    "### PARAMETERS"
   ]
  },
  {
   "cell_type": "code",
   "execution_count": 8,
   "metadata": {},
   "outputs": [],
   "source": [
    "names = [\"Nearest Neighbors\", \"Logistic Regression\", \"Decision Tree\", \"Neural Network\"]\n",
    "ensemble_name = [\"Random Forest\", \"AdaBoost\", \"Bagging\"]\n",
    "\n",
    "parameters = {\n",
    "    \"Nearest Neighbors\": {\"n_neighbors\" : [1]},\n",
    "    \"Logistic Regression\" : {\"solver\":[\"lbfgs\"], \"multi_class\" : [\"multinomial\"], \"random_state\": [1]},\n",
    "    \"Decision Tree\" : {'max_depth': [5]}\n",
    "}\n",
    "\n",
    "ensemble_parameters = {\n",
    "    \"Random Forest\": {\"max_dept\":[5], \"n_estimators\":[10], \"max_features\":[1]},\n",
    "    \"AdaBoost\": {'n_estimator': [10]},\n",
    "    \"Bagging\": {'n_estimator':[100], 'max_samples':[0.8], 'max_features':[0.8]}\n",
    "}\n",
    "\n",
    "classifiers = [\n",
    "    KNeighborsClassifier(1),\n",
    "    LogisticRegression(),\n",
    "    DecisionTreeClassifier()\n",
    "]\n",
    "\n",
    "ensemble_classifier = [\n",
    "    RandomForestClassifier(),\n",
    "    AdaBoostClassifier(),\n",
    "    BaggingClassifier()\n",
    "]"
   ]
  },
  {
   "cell_type": "code",
   "execution_count": 9,
   "metadata": {},
   "outputs": [],
   "source": [
    "y_train2 = np.argmax(y_train, axis = 1)\n",
    "y_test2 = np.argmax(y_test, axis = 1)\n",
    "\n",
    "y2_clfs = [\"Logistic Regression\", \"Decision Tree\", \"AdaBoost\", \"Bagging\"]\n",
    "\n",
    "classifier_stats = {}"
   ]
  },
  {
   "cell_type": "markdown",
   "metadata": {},
   "source": [
    "### FITTING THE DATA INTO MODELS"
   ]
  },
  {
   "cell_type": "code",
   "execution_count": 10,
   "metadata": {},
   "outputs": [
    {
     "name": "stdout",
     "output_type": "stream",
     "text": [
      "Running execution for classifier: Nearest Neighbors\n",
      "Running execution for classifier: Logistic Regression\n"
     ]
    },
    {
     "name": "stderr",
     "output_type": "stream",
     "text": [
      "/Users/umakantmanore/Desktop/amu/Dev_Enviroment2023/test_env/lib/python3.9/site-packages/sklearn/linear_model/_logistic.py:1247: FutureWarning: 'multi_class' was deprecated in version 1.5 and will be removed in 1.7. From then on, it will always use 'multinomial'. Leave it to its default value to avoid this warning.\n",
      "  warnings.warn(\n",
      "/Users/umakantmanore/Desktop/amu/Dev_Enviroment2023/test_env/lib/python3.9/site-packages/sklearn/linear_model/_logistic.py:1247: FutureWarning: 'multi_class' was deprecated in version 1.5 and will be removed in 1.7. From then on, it will always use 'multinomial'. Leave it to its default value to avoid this warning.\n",
      "  warnings.warn(\n",
      "/Users/umakantmanore/Desktop/amu/Dev_Enviroment2023/test_env/lib/python3.9/site-packages/sklearn/linear_model/_logistic.py:1247: FutureWarning: 'multi_class' was deprecated in version 1.5 and will be removed in 1.7. From then on, it will always use 'multinomial'. Leave it to its default value to avoid this warning.\n",
      "  warnings.warn(\n",
      "/Users/umakantmanore/Desktop/amu/Dev_Enviroment2023/test_env/lib/python3.9/site-packages/sklearn/linear_model/_logistic.py:1247: FutureWarning: 'multi_class' was deprecated in version 1.5 and will be removed in 1.7. From then on, it will always use 'multinomial'. Leave it to its default value to avoid this warning.\n",
      "  warnings.warn(\n",
      "/Users/umakantmanore/Desktop/amu/Dev_Enviroment2023/test_env/lib/python3.9/site-packages/sklearn/linear_model/_logistic.py:1247: FutureWarning: 'multi_class' was deprecated in version 1.5 and will be removed in 1.7. From then on, it will always use 'multinomial'. Leave it to its default value to avoid this warning.\n",
      "  warnings.warn(\n",
      "/Users/umakantmanore/Desktop/amu/Dev_Enviroment2023/test_env/lib/python3.9/site-packages/sklearn/linear_model/_logistic.py:1247: FutureWarning: 'multi_class' was deprecated in version 1.5 and will be removed in 1.7. From then on, it will always use 'multinomial'. Leave it to its default value to avoid this warning.\n",
      "  warnings.warn(\n"
     ]
    },
    {
     "name": "stdout",
     "output_type": "stream",
     "text": [
      "Running execution for classifier: Decision Tree\n",
      "\n",
      "\n",
      "\n",
      "Classifier: Nearest Neighbors \n",
      "F1_Score: 0.3485106382978723 \n",
      "Execution Time: 7.271537780761719\n",
      "\n",
      "\n",
      "Classifier: Logistic Regression \n",
      "F1_Score: 0.3872340425531915 \n",
      "Execution Time: 4.914545059204102\n",
      "\n",
      "\n",
      "Classifier: Decision Tree \n",
      "F1_Score: 0.4651063829787234 \n",
      "Execution Time: 1.2636759281158447\n",
      "\n",
      "\n"
     ]
    }
   ],
   "source": [
    "for name, clf in zip(names, classifiers):\n",
    "    print(f\"Running execution for classifier: {name}\")\n",
    "    clf_grid = GridSearchCV(clf, parameters[name], n_jobs=10, cv=5)\n",
    "\n",
    "    if name in y2_clfs:\n",
    "        ts = time.time()\n",
    "        clf_grid.fit(X_train, y_train2)\n",
    "        new_ts = time.time()\n",
    "        total_time = new_ts - ts \n",
    "        score = clf_grid.score(X_test, y_test2)\n",
    "        y_pred = clf_grid.predict(X_test)\n",
    "        f1_score = metrics.f1_score(y_test2, y_pred, average='micro')\n",
    "    else:\n",
    "        ts = time.time()\n",
    "        clf_grid.fit(X_train, y_train)\n",
    "        new_ts = time.time()\n",
    "        total_time = new_ts - ts \n",
    "        score = clf_grid.score(X_test, y_test)\n",
    "        y_pred = clf_grid.predict(X_test)\n",
    "        f1_score = metrics.f1_score(y_test, y_pred, average='micro')\n",
    "    classifier_stats[name] = (score, f1_score, total_time)\n",
    "\n",
    "print(\"\\n\\n\")\n",
    "\n",
    "for clfs in classifier_stats:\n",
    "    (score, f1_score, total_time) = classifier_stats[clfs]\n",
    "    print(f\"Classifier: {clfs} \\nF1_Score: {f1_score} \\nExecution Time: {total_time}\")\n",
    "    print(\"\\n\")"
   ]
  }
 ],
 "metadata": {
  "kernelspec": {
   "display_name": "test_env",
   "language": "python",
   "name": "python3"
  },
  "language_info": {
   "codemirror_mode": {
    "name": "ipython",
    "version": 3
   },
   "file_extension": ".py",
   "mimetype": "text/x-python",
   "name": "python",
   "nbconvert_exporter": "python",
   "pygments_lexer": "ipython3",
   "version": "3.9.6"
  }
 },
 "nbformat": 4,
 "nbformat_minor": 2
}
